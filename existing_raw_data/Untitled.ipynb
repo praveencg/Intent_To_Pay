{
 "cells": [
  {
   "cell_type": "code",
   "execution_count": 1,
   "id": "008f4a35",
   "metadata": {},
   "outputs": [
    {
     "name": "stderr",
     "output_type": "stream",
     "text": [
      "/usr/local/lib/python3.8/dist-packages/xgboost/compat.py:31: FutureWarning: pandas.Int64Index is deprecated and will be removed from pandas in a future version. Use pandas.Index with the appropriate dtype instead.\n",
      "  from pandas import MultiIndex, Int64Index\n",
      "/usr/local/lib/python3.8/dist-packages/pkg_resources/__init__.py:123: PkgResourcesDeprecationWarning: 0.1.36ubuntu1 is an invalid version and will not be supported in a future release\n",
      "  warnings.warn(\n",
      "/usr/local/lib/python3.8/dist-packages/pkg_resources/__init__.py:123: PkgResourcesDeprecationWarning: 0.23ubuntu1 is an invalid version and will not be supported in a future release\n",
      "  warnings.warn(\n"
     ]
    },
    {
     "data": {
      "text/plain": [
       "datetime.timedelta(0)"
      ]
     },
     "execution_count": 1,
     "metadata": {},
     "output_type": "execute_result"
    }
   ],
   "source": [
    "#1\n",
    "import pandas as pd\n",
    "import numpy as np\n",
    "import json\n",
    "\n",
    "import psycopg2\n",
    "from IPython.core.interactiveshell import InteractiveShell\n",
    "InteractiveShell.ast_node_interactivity = 'all'\n",
    "import matplotlib.pyplot as plt\n",
    "import seaborn as sns\n",
    "import matplotlib\n",
    "import matplotlib.pyplot as plt\n",
    "\n",
    "from sklearn.model_selection import train_test_split\n",
    "import xgboost as xgb\n",
    "\n",
    "from sklearn import metrics\n",
    "from xgboost import plot_importance\n",
    "import pandas as pd\n",
    "import numpy as np\n",
    "from matplotlib import pyplot as plt\n",
    "from statsmodels.stats.outliers_influence import variance_inflation_factor   \n",
    "import seaborn as sns\n",
    "%matplotlib inline\n",
    "import pickle\n",
    "import gc\n",
    "import warnings\n",
    "warnings.filterwarnings(\"ignore\")\n",
    "\n",
    "from sklearn.model_selection import train_test_split\n",
    "plt.style.use('bmh')\n",
    "from pandas import Series, DataFrame\n",
    "from sklearn.model_selection import GridSearchCV\n",
    "\n",
    "import traceback\n",
    "import sys\n",
    "\n",
    "import re\n",
    "import datetime\n",
    "datetime.timedelta()\n"
   ]
  },
  {
   "cell_type": "code",
   "execution_count": 4,
   "id": "2e3525b0",
   "metadata": {},
   "outputs": [],
   "source": [
    "comms1=pd.read_csv('RR_jul_comms_4_v1-Copy1.csv')\n",
    "comms2=pd.read_csv('RR_jul_comms_5_10_v1-Copy1.csv')\n",
    "\n",
    "comms=pd.concat([comms1,comms2])\n",
    "\n",
    "comms.to_csv('exisiting_comms.csv',index=False)"
   ]
  },
  {
   "cell_type": "code",
   "execution_count": 3,
   "id": "5fca7590",
   "metadata": {},
   "outputs": [
    {
     "data": {
      "text/plain": [
       "Index(['Contact No ', 'Loan_ID', 'DPD', 'Loan_Amount', 'EMI_AMT', 'Claim_AMT',\n",
       "       'Penalty_AMT', 'Interest_Charges', 'Principal_Outstanding', 'Product',\n",
       "       'Loan_tenure', 'Pending_EMIs', 'Payment_link', 'PTP DATE', 'PTP AMOUNT',\n",
       "       'remarks', 'CallNo', 'Call_Start_Time', 'Call_End_Time', 'ServiceName',\n",
       "       'AgentName', 'Agent_id', 'Talk_Duration', 'calltype', 'Phone_No',\n",
       "       'Dialer_Disposition', 'AGENT_DISP', 'AGENT_Sub_DISP',\n",
       "       'AGENT_Sub_Sub_DISP', 'hangup_by', 'update_date', 'ref_id',\n",
       "       'callnumber', 'caller_clid', 'callback_date', 'Call_Status',\n",
       "       'Unnamed: 36'],\n",
       "      dtype='object')"
      ]
     },
     "execution_count": 3,
     "metadata": {},
     "output_type": "execute_result"
    }
   ],
   "source": [
    "comms.columns"
   ]
  },
  {
   "cell_type": "code",
   "execution_count": null,
   "id": "2feaa5b6",
   "metadata": {},
   "outputs": [],
   "source": []
  }
 ],
 "metadata": {
  "kernelspec": {
   "display_name": "Python 3",
   "language": "python",
   "name": "python3"
  },
  "language_info": {
   "codemirror_mode": {
    "name": "ipython",
    "version": 3
   },
   "file_extension": ".py",
   "mimetype": "text/x-python",
   "name": "python",
   "nbconvert_exporter": "python",
   "pygments_lexer": "ipython3",
   "version": "3.8.10"
  }
 },
 "nbformat": 4,
 "nbformat_minor": 5
}
